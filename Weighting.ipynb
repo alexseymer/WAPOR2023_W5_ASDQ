{
 "cells": [
  {
   "cell_type": "markdown",
   "id": "d8b25b9e-4920-4870-8683-e3cd55ff426e",
   "metadata": {},
   "source": [
    "# [Workshop 5. Assessment of Survey Data Quality](https://wapor.org/events/annual-conference/current-conference/training-workshops/)\n",
    "\n",
    "# Part C: Weighting and design effect\n",
    "\n",
    "Author: <a href=\"mailto:alexander.seymer@plus.ac.at?subject=Regarding the WAPOR 2023 workshop\">Alexander Seymer @ PLUS</a>\n",
    "\n",
    "Date: September 19, 2023\n"
   ]
  },
  {
   "cell_type": "markdown",
   "id": "50c9026e-609c-4351-8ca3-9f4d98f123b8",
   "metadata": {},
   "source": [
    "## Abstract"
   ]
  },
  {
   "cell_type": "markdown",
   "id": "097ed7c0-153a-47be-bb3b-bb0f06d2d925",
   "metadata": {},
   "source": [
    "In this session of the workshop, the design effect, as measure for the impact of the sampling design on the variance of an estimator, and weighting as tool to account for complex sampling designs will be discussed.\n"
   ]
  },
  {
   "cell_type": "markdown",
   "id": "b4f0083b-8760-4422-8c90-f4facfb36b8d",
   "metadata": {},
   "source": [
    "## Preparing the R session"
   ]
  },
  {
   "cell_type": "code",
   "execution_count": null,
   "id": "4ba38e1a-ad16-48e8-b5d3-0bc1342dcfc6",
   "metadata": {},
   "outputs": [],
   "source": [
    "source(\"install.R\")"
   ]
  },
  {
   "cell_type": "markdown",
   "id": "582cf02f-f757-4d94-977d-673116687c8a",
   "metadata": {},
   "source": [
    "\n",
    "Although we will use R, alternative software packages provide means to employ weights:\n",
    "\n",
    "| Software | Reference |\n",
    "| -------- | --------- |\n",
    "| Python | Paczkowski, W. R. (2022). Modern survey analysis: Using Python for deeper insights. Springer Nature. [https://link.springer.com/book/10.1007/978-3-030-76267-4](https://link.springer.com/book/10.1007/978-3-030-76267-4) | \n",
    "| SAS | Lewis, T. H. (2016). [Complex survey data analysis with SAS. CRC Press.](https://www.routledge.com/Complex-Survey-Data-Analysis-with-SAS/Lewis/p/book/9781498776776) |\n",
    "| SPSS | Zou, D., Lloyd, J. E. V., & Baumbusch, J. L. (2019). Using SPSS to Analyze Complex Survey Data: A Primer. Journal of Modern Applied Statistical Methods, 18. [http://jmasm.com/index.php/jmasm/article/view/1026](http://jmasm.com/index.php/jmasm/article/view/1026) | \n",
    "| STATA | Weighing Data in Stata—Stata Help—Reed College. (2014). Retrieved September 7th, 2023, from [https://www.reed.edu/psychology/stata/gs/tutorials/weights.html](https://www.reed.edu/psychology/stata/gs/tutorials/weights.html) |"
   ]
  },
  {
   "cell_type": "markdown",
   "id": "f1dc9966-810d-47c0-b4dd-1e357a9047de",
   "metadata": {},
   "source": [
    "## Weighting\n"
   ]
  },
  {
   "cell_type": "markdown",
   "id": "6fa2154e-eb35-4acd-9c16-c05ff1ef6e14",
   "metadata": {
    "jp-MarkdownHeadingCollapsed": true
   },
   "source": [
    "Complex sampling designs for surveys are commonly applied by employing:\n",
    "\n",
    "- stratification (divide the population in homogenous groups and sample from each group a specific number);\n",
    "- clustering (divide the population in groups, e.g. regions, and sample from a random subset of this groups);\n",
    "- unequal sampling (oversampling of subgroups of interest).\n",
    "\n",
    "Considering these samples as random samples will result in biased standard errors. \n",
    "\n",
    "A common approach to account for the bias is providing design weights. Most surveys using complex sampling strategies are providing weights to adjust for the deviation from the random sampling.\n"
   ]
  },
  {
   "cell_type": "markdown",
   "id": "aaea5084-a7e2-438b-8893-1be92fb66a28",
   "metadata": {},
   "source": [
    "## Example: Weighting Values in Crisis data for Austrian Sample"
   ]
  },
  {
   "cell_type": "markdown",
   "id": "274a30b3-064a-4252-b64a-b13ef8fd1d68",
   "metadata": {},
   "source": [
    "\n",
    "Weighting requires information about the target population or the inferential population. In this example, official statistics from [EUROSTAT](https://ec.europa.eu/eurostat/web/main/home) will be used as reference for the inferential population including sex, age, education and region. Hence, we will:"
   ]
  },
  {
   "cell_type": "markdown",
   "id": "6a5a22aa-b63b-4ae3-8e40-cf128348ec8a",
   "metadata": {},
   "source": [
    "### 1. Import data from EUROSTAT"
   ]
  },
  {
   "cell_type": "markdown",
   "id": "555db4f4-9dfe-4ffe-8145-dd6b7cb01bf7",
   "metadata": {
    "jp-MarkdownHeadingCollapsed": true
   },
   "source": [
    "We will start by searching the EUROSTAT database for the relevant data. Let's check all database with containing the phrase `Population` in the title"
   ]
  },
  {
   "cell_type": "code",
   "execution_count": null,
   "id": "acaf8f6c-7f2d-4901-b757-5730c6024dc8",
   "metadata": {},
   "outputs": [],
   "source": [
    "search_eurostat(\"Population\") %>%\n",
    "  datatable(filter = \"top\")"
   ]
  },
  {
   "cell_type": "markdown",
   "id": "d2ce4b0b-68b9-47ae-a987-a197b6ac4000",
   "metadata": {},
   "source": [
    "Now import the data based on the database id."
   ]
  },
  {
   "cell_type": "code",
   "execution_count": null,
   "id": "17c11859-67df-43c1-90e6-e6ef023f1a55",
   "metadata": {
    "scrolled": true
   },
   "outputs": [],
   "source": [
    "EuroDataAT <- get_eurostat_json(\n",
    "  \"lfst_r_lfsd2pop\",\n",
    "  filters = list(\n",
    "    geo = c(\"AT\", paste0(\"AT\",c(11:13,21,22,31:34))),\n",
    "    time = 2020\n",
    "  ))\n",
    "\n",
    "datatable(EuroDataAT,\n",
    "         filter = \"top\")"
   ]
  },
  {
   "cell_type": "markdown",
   "id": "afed6504-baa6-4bd3-a7f0-05c78b5f650f",
   "metadata": {
    "jp-MarkdownHeadingCollapsed": true
   },
   "source": [
    "### 2. Prepare reference points for weighting"
   ]
  },
  {
   "cell_type": "markdown",
   "id": "938c9c61-f040-4207-ae3a-4678389ae6fb",
   "metadata": {},
   "source": [
    "#### Sex\n",
    "\n",
    "To subset the sex distribution, we will use the `TOTAL` column from education (`isced11`), the older than or equal to 15 years (`Y_GE15`) from age, remove totals (`T`) from sex and use only `AT` for regioin (`geo`)."
   ]
  },
  {
   "cell_type": "code",
   "execution_count": null,
   "id": "2454eb31-4376-4d0d-9be5-1a711b8aa718",
   "metadata": {
    "scrolled": true
   },
   "outputs": [],
   "source": [
    "# Subset sex distribution\n",
    "DatGndr <- EuroDataAT %>%\n",
    "  filter(isced11 == \"TOTAL\") %>%\n",
    "  filter(age == \"Y_GE15\") %>%\n",
    "  filter(sex != \"T\") %>%\n",
    "  filter(geo == \"AT\") %>%\n",
    "  dplyr::select(sex, values) %>%\n",
    "  setNames(c(\"Category\", \"Count\"))\n",
    "\n",
    "# Calculate share\n",
    "DatGndr$Share <- DatGndr$Count/sum(DatGndr$Count)\n",
    "\n",
    "datatable(DatGndr) %>%\n",
    "    formatPercentage(3) %>% \n",
    "    formatStyle(3, background = styleColorBar(c(0,1), 'lightblue'),\n",
    "                         backgroundSize = '98% 88%',\n",
    "                         backgroundRepeat = 'no-repeat',\n",
    "                         backgroundPosition = 'center')"
   ]
  },
  {
   "cell_type": "markdown",
   "id": "3478f0b6-e3ec-4326-9c94-e9be9779cd1e",
   "metadata": {},
   "source": [
    "#### Age\n",
    "\n",
    "A limitation for the application of age is that we need to use the predefined groups by official statistics. Otherwise, we use the total count (`T`) of sex, the specific age groups and apply the same filter for education and region as for sex."
   ]
  },
  {
   "cell_type": "code",
   "execution_count": null,
   "id": "faf904b7-6a71-4303-a4e9-56f799631ab5",
   "metadata": {},
   "outputs": [],
   "source": [
    "# Subset age group distribution\n",
    "DatAge <- EuroDataAT %>%\n",
    "  filter(isced11 == \"TOTAL\") %>%\n",
    "  filter(age %in% c(\"Y15-24\",\"Y25-34\",\"Y35-44\",\"Y45-54\",\"Y55-64\",\"Y_GE65\")) %>%\n",
    "  filter(sex == \"T\") %>%\n",
    "  filter(geo == \"AT\") %>%\n",
    "  dplyr::select(age, values) %>%\n",
    "  setNames(c(\"Category\", \"Count\"))\n",
    "\n",
    "# Calculate share\n",
    "DatAge$Share <- DatAge$Count/sum(DatAge$Count)\n",
    "\n",
    "datatable(DatAge) %>%\n",
    "    formatPercentage(3) %>% \n",
    "    formatStyle(3, background = styleColorBar(c(0,1), 'lightblue'),\n",
    "                         backgroundSize = '98% 88%',\n",
    "                         backgroundRepeat = 'no-repeat',\n",
    "                         backgroundPosition = 'center')"
   ]
  },
  {
   "cell_type": "markdown",
   "id": "74cae7fb-661c-4141-878c-6ef76eb89741",
   "metadata": {},
   "source": [
    "#### Education\n",
    "\n",
    "The limitation of existing categories becomes even bigger with education as the eurostat database provides only three categories with ISCED 0-2, ISCED 3-4 and ISCED 5-8. "
   ]
  },
  {
   "cell_type": "code",
   "execution_count": null,
   "id": "ac5aa87d-3fde-4af4-aa7d-ba5bf6859623",
   "metadata": {},
   "outputs": [],
   "source": [
    "# Subset education distribution\n",
    "DatEdu <- EuroDataAT %>%\n",
    "  filter(isced11 %in% c(\"ED0-2\", \"ED3_4\", \"ED5-8\")) %>%\n",
    "  filter(age == \"Y_GE15\") %>%\n",
    "  filter(sex == \"T\") %>%\n",
    "  filter(geo == \"AT\") %>%\n",
    "  dplyr::select(isced11, values) %>%\n",
    "  setNames(c(\"Category\", \"Count\"))\n",
    "\n",
    "# Calculate share\n",
    "DatEdu$Share <- DatEdu$Count/sum(DatEdu$Count)\n",
    "\n",
    "datatable(DatEdu) %>%\n",
    "    formatPercentage(3) %>% \n",
    "    formatStyle(3, background = styleColorBar(c(0,1), 'lightblue'),\n",
    "                         backgroundSize = '98% 88%',\n",
    "                         backgroundRepeat = 'no-repeat',\n",
    "                         backgroundPosition = 'center')"
   ]
  },
  {
   "cell_type": "markdown",
   "id": "88196080-da66-4006-b44a-470d319fa2ca",
   "metadata": {},
   "source": [
    "#### Region\n",
    "\n",
    "The region needs only relabelling."
   ]
  },
  {
   "cell_type": "code",
   "execution_count": null,
   "id": "6d5c1273-e095-4b93-9180-773e3b065798",
   "metadata": {},
   "outputs": [],
   "source": [
    "# Subset NUTS2 distribution\n",
    "DatReg <- EuroDataAT %>%\n",
    "  filter(isced11 == \"TOTAL\") %>%\n",
    "  filter(age == \"Y_GE15\") %>%\n",
    "  filter(sex == \"T\") %>%\n",
    "  filter(geo != \"AT\") %>%\n",
    "  dplyr::select(geo, values) %>%\n",
    "  setNames(c(\"Category\", \"Count\"))\n",
    "\n",
    "# Relabel\n",
    "DatReg$Category <- DatReg$Category %>%\n",
    "  str_replace(\"AT11\",\"Burgenland\") %>%\n",
    "  str_replace(\"AT12\",\"Lower Austria\") %>%\n",
    "  str_replace(\"AT13\",\"Vienna\") %>%\n",
    "  str_replace(\"AT21\",\"Carinthia\") %>%\n",
    "  str_replace(\"AT22\",\"Styria\") %>%\n",
    "  str_replace(\"AT31\",\"Upper Austria\") %>%\n",
    "  str_replace(\"AT32\",\"Salzburg\") %>%\n",
    "  str_replace(\"AT33\",\"Tyrol\") %>%\n",
    "  str_replace(\"AT34\",\"Vorarlberg\")\n",
    "\n",
    "# Calculate share\n",
    "DatReg$Share <- DatReg$Count/sum(DatReg$Count)\n",
    "\n",
    "datatable(DatReg) %>%\n",
    "    formatPercentage(3) %>% \n",
    "    formatStyle(3, background = styleColorBar(c(0,1), 'lightblue'),\n",
    "                         backgroundSize = '98% 88%',\n",
    "                         backgroundRepeat = 'no-repeat',\n",
    "                         backgroundPosition = 'center')"
   ]
  },
  {
   "cell_type": "markdown",
   "id": "bfd5e5ef-b3e6-419a-84b5-1d6c62f2a4d6",
   "metadata": {
    "jp-MarkdownHeadingCollapsed": true
   },
   "source": [
    "### 3. Import Values in Crisis data"
   ]
  },
  {
   "cell_type": "markdown",
   "id": "9a0f4bf4-6b51-4dca-bcaa-242a7f600f02",
   "metadata": {
    "jp-MarkdownHeadingCollapsed": true
   },
   "source": [
    "You need to have executed the `DataDownloader`Notebook before!"
   ]
  },
  {
   "cell_type": "code",
   "execution_count": null,
   "id": "378b9393-a0fe-4b0c-a2b0-b278f5f652e9",
   "metadata": {},
   "outputs": [],
   "source": [
    "VIC_data <- readRDS(\"data/10742_da01_en_v2_0.Rdata\") %>%\n",
    "    filter(country == 1) %>% # 1 for Austria\n",
    "    # Subset VIC data\n",
    "    dplyr::select(ID_merge,Q01, Q02_age_grouped, Q05_ISCED_3_Levels, Q09_AUT)     "
   ]
  },
  {
   "cell_type": "markdown",
   "id": "0aa7bfac-b49d-445d-bff6-6b37ac9ee7b1",
   "metadata": {},
   "source": [
    "Let's investigate the distribution and attributes of these variables in the VIC data."
   ]
  },
  {
   "cell_type": "code",
   "execution_count": null,
   "id": "630dd866-b340-48b3-ad47-17afddc6d602",
   "metadata": {},
   "outputs": [],
   "source": [
    "table1(~ as_factor(Q01) + \n",
    "         as_factor(Q02_age_grouped) + \n",
    "         as_factor(Q05_ISCED_3_Levels) + \n",
    "         as_factor(Q09_AUT),\n",
    "       data = VIC_data) %>%\n",
    "  display_html()"
   ]
  },
  {
   "cell_type": "markdown",
   "id": "52e310d7-26bc-47d9-ac94-48628d03b7ea",
   "metadata": {
    "jp-MarkdownHeadingCollapsed": true
   },
   "source": [
    "### 4. Align both data sources"
   ]
  },
  {
   "cell_type": "markdown",
   "id": "8a3f6dd9-3806-4fbc-8458-fae35aace014",
   "metadata": {},
   "source": [
    "We will need align the labels and coding from both sources. We will use the EUROSTAT data as point of reference here and manipulate the labels and coding of the VIC data."
   ]
  },
  {
   "cell_type": "markdown",
   "id": "ea11e6e2-b6b1-459c-b803-d42e199a1339",
   "metadata": {},
   "source": [
    "#### Sex\n",
    "\n",
    "For the sex variable, we simply overwrite the labels."
   ]
  },
  {
   "cell_type": "code",
   "execution_count": null,
   "id": "bbf404c7-3aa9-46e8-b26a-2b3fb1dc20d7",
   "metadata": {},
   "outputs": [],
   "source": [
    "# Make it a factor and drop empty levels\n",
    "VIC_data$Q01 <- VIC_data$Q01 %>%\n",
    "  as_factor() %>%\n",
    "  factor()\n",
    "\n",
    "# Set factor labels of VIC data to EUROSTAT labels.\n",
    "levels(VIC_data$Q01) <- DatGndr$Category"
   ]
  },
  {
   "cell_type": "markdown",
   "id": "6e912c8c-f507-49cf-b868-6257a349fa74",
   "metadata": {},
   "source": [
    "#### Age\n",
    "\n",
    "For age, we need to regroup the variable slighly."
   ]
  },
  {
   "cell_type": "code",
   "execution_count": null,
   "id": "052a8104-6a5e-4fe3-ae86-5b955add9376",
   "metadata": {},
   "outputs": [],
   "source": [
    "# Make it a factor and drop empty levels\n",
    "VIC_data$Q02_age_grouped <- VIC_data$Q02_age_grouped %>%\n",
    "  as_factor() %>%\n",
    "  factor()\n",
    "\n",
    "# Get original categories from VIC data\n",
    "old_labs <- levels(VIC_data$Q02_age_grouped)\n",
    "\n",
    "# Create new variable \n",
    "VIC_data$age_grouped <- NA\n",
    "VIC_data$age_grouped[VIC_data$Q02_age_grouped %in% old_labs[1:2]] <- DatAge$Category[1]\n",
    "VIC_data$age_grouped[VIC_data$Q02_age_grouped %in% old_labs[3:4]] <- DatAge$Category[2]\n",
    "VIC_data$age_grouped[VIC_data$Q02_age_grouped %in% old_labs[5:6]] <- DatAge$Category[3]\n",
    "VIC_data$age_grouped[VIC_data$Q02_age_grouped %in% old_labs[7:8]] <- DatAge$Category[4]\n",
    "VIC_data$age_grouped[VIC_data$Q02_age_grouped %in% old_labs[9:10]] <- DatAge$Category[5]\n",
    "VIC_data$age_grouped[VIC_data$Q02_age_grouped %in% old_labs[11]] <- DatAge$Category[6]\n",
    "\n",
    "# Make the new variable a ordered factor\n",
    "VIC_data$age_grouped <- factor(VIC_data$age_grouped,\n",
    "                              levels = DatAge$Category,\n",
    "                              labels = DatAge$Category,\n",
    "                              ordered = TRUE)\n",
    "\n",
    "# A quick check if the recoding worked\n",
    "table(VIC_data$Q02_age_grouped,\n",
    "     VIC_data$age_grouped)\n",
    "\n",
    "# Drop old variable\n",
    "VIC_data <- VIC_data %>%\n",
    "    select(!Q02_age_grouped)"
   ]
  },
  {
   "cell_type": "markdown",
   "id": "8bf517bd-5d68-40d4-9f1d-8d68f674cdcc",
   "metadata": {},
   "source": [
    "#### Education\n",
    "\n",
    "Education is already coded as need, hence we just need to relabel the variable."
   ]
  },
  {
   "cell_type": "code",
   "execution_count": null,
   "id": "9fdcd024-352c-40d0-99b6-d99873fb5d61",
   "metadata": {},
   "outputs": [],
   "source": [
    "# Make it a factor and drop empty levels\n",
    "VIC_data$Q05_ISCED_3_Levels <- VIC_data$Q05_ISCED_3_Levels %>%\n",
    "  as_factor() %>%\n",
    "  factor()\n",
    "\n",
    "# Set factor labels of VIC data to EUROSTAT labels.\n",
    "levels(VIC_data$Q05_ISCED_3_Levels) <- DatEdu$Category"
   ]
  },
  {
   "cell_type": "markdown",
   "id": "1b86350f-b240-43d7-ad05-7166ac6f1389",
   "metadata": {},
   "source": [
    "#### Region"
   ]
  },
  {
   "cell_type": "code",
   "execution_count": null,
   "id": "dbbe861a-3513-4220-b9a3-6d22c29d63d3",
   "metadata": {},
   "outputs": [],
   "source": [
    "# Make it a factor and drop empty levels\n",
    "VIC_data$Q09_AUT <- VIC_data$Q09_AUT %>%\n",
    "  as_factor() %>%\n",
    "  factor()"
   ]
  },
  {
   "cell_type": "markdown",
   "id": "29ecae30-8776-494f-8528-bcd954d79369",
   "metadata": {},
   "source": [
    "##### Rename variables\n",
    "\n",
    "The variable names need to be identical to the later target definition."
   ]
  },
  {
   "cell_type": "code",
   "execution_count": null,
   "id": "e5551d84-0a99-47c8-ba31-b9b1fe41f4a3",
   "metadata": {},
   "outputs": [],
   "source": [
    "colnames(VIC_data) <- colnames(VIC_data) %>%\n",
    "    str_replace(\"Q01\",\"Sex\") %>%\n",
    "    str_replace(\"age_grouped\", \"Age\") %>%\n",
    "    str_replace(\"Q05_ISCED_3_Levels\", \"Education\") %>%\n",
    "    str_replace(\"Q09_AUT\",\"Region\")"
   ]
  },
  {
   "cell_type": "markdown",
   "id": "d460e073-0dac-4113-9aea-49dea40fa74b",
   "metadata": {
    "jp-MarkdownHeadingCollapsed": true
   },
   "source": [
    "### 5. Weighting"
   ]
  },
  {
   "cell_type": "markdown",
   "id": "07927c51-8a62-4596-b111-8dadb6de75fe",
   "metadata": {},
   "source": [
    "The procedure uses the [anesrake](http://cran.r-project.org/web/packages/anesrake/index.html) package by Pasek (2018) and follows the blog entry on raking weights by Daze (2012).\n",
    "\n",
    "> Pasek, Josh. 2018. Anesrake: ANES Raking Implementation. https://CRAN.R-project.org/package=anesrake.\n",
    ">\n",
    "> Daza, Sebastian. 2012. “https://sdaza.com/blog/2012/raking/.” Raking Weights with R. https://sdaza.com/blog/2012/raking/\n",
    "\n",
    "\n",
    "We will perform three steps:"
   ]
  },
  {
   "cell_type": "markdown",
   "id": "416c9e7e-de7c-4bbd-aea5-f7aff642c926",
   "metadata": {
    "jp-MarkdownHeadingCollapsed": true
   },
   "source": [
    "#### 5.1. Define a target list"
   ]
  },
  {
   "cell_type": "markdown",
   "id": "da3cf491-bc6f-4a4c-90d9-1cd47389ee42",
   "metadata": {
    "jp-MarkdownHeadingCollapsed": true
   },
   "source": [
    "The anesrake package requires a target list consisted of named vectors with the marginal proportions. Hence, we will create this list first:"
   ]
  },
  {
   "cell_type": "code",
   "execution_count": null,
   "id": "7e9b3a0a-7c4b-48dd-be50-83ae17aa6d7c",
   "metadata": {},
   "outputs": [],
   "source": [
    "# Prepare list of population marginal proportions\n",
    "target <- list(\n",
    "  \"Sex\" = DatGndr$Share %>%\n",
    "    setNames(DatGndr$Category),\n",
    "  \"Age\" = DatAge$Share %>%\n",
    "    setNames(DatAge$Category),\n",
    "  \"Education\" = DatEdu$Share %>%\n",
    "    setNames(DatEdu$Category),\n",
    "  \"Region\" = DatReg$Share %>%\n",
    "    setNames(DatReg$Category)\n",
    ")"
   ]
  },
  {
   "cell_type": "markdown",
   "id": "66f48648-e3ee-4347-a49e-2ab21d508921",
   "metadata": {
    "jp-MarkdownHeadingCollapsed": true
   },
   "source": [
    "#### 5.2. Run the raking function"
   ]
  },
  {
   "cell_type": "markdown",
   "id": "f5a36f50-5e0c-405b-b226-c414c04dfcbb",
   "metadata": {
    "jp-MarkdownHeadingCollapsed": true
   },
   "source": [
    "As raking is an iterative procedure, we need to set the seed of the CPU to receive reproducible results."
   ]
  },
  {
   "cell_type": "code",
   "execution_count": null,
   "id": "b601a3ce-b1b6-4d18-a91a-0580972e30f5",
   "metadata": {},
   "outputs": [],
   "source": [
    "set.seed(19092023)\n",
    "\n",
    "RakingResult <- anesrake(inputter = target,\n",
    "                         dataframe = as.data.frame(VIC_data), # make sure it is a dataframe!\n",
    "                         caseid = VIC_data$ID_merge,\n",
    "                         cap = 10,\n",
    "                         type = \"nolim\",\n",
    "                         force1 = FALSE)\n",
    "    "
   ]
  },
  {
   "cell_type": "markdown",
   "id": "4b6018b9-f4cd-49ef-aec9-585d57deee23",
   "metadata": {
    "jp-MarkdownHeadingCollapsed": true
   },
   "source": [
    "#### 5.3. Access raking results"
   ]
  },
  {
   "cell_type": "code",
   "execution_count": null,
   "id": "e36b2aea-cd37-4349-a9a1-4b46a36619aa",
   "metadata": {},
   "outputs": [],
   "source": [
    "summary(RakingResult)"
   ]
  },
  {
   "cell_type": "markdown",
   "id": "d7ac0285-d5e2-4dd3-9d75-70ec401a3088",
   "metadata": {
    "jp-MarkdownHeadingCollapsed": true
   },
   "source": [
    "#### 5.4. Trimming weights"
   ]
  },
  {
   "cell_type": "markdown",
   "id": "55ad64b4-a3ac-4c72-974e-ca9d55299088",
   "metadata": {},
   "source": [
    "Sometimes weights are very large, which might distort the results as single cases receive to much weight in the analysis. A commonly applied treshold for trimming weights is 5 (Stapelton 2012). We can see from the descriptives of the weights in the raking summary that our maximum weight is less than 2.\n",
    "\n",
    "Stapleton, L. M. (2012). Analysis of data from complex surveys. In International handbook of survey methodology (pp. 342-369). Routledge."
   ]
  },
  {
   "cell_type": "markdown",
   "id": "17236dac-e8c0-4ed7-89f8-c2bef3b90a40",
   "metadata": {
    "jp-MarkdownHeadingCollapsed": true
   },
   "source": [
    "#### 5.5. Export the results (Optional)"
   ]
  },
  {
   "cell_type": "markdown",
   "id": "4f0c57c5-e664-4dfa-af10-913cd2010aae",
   "metadata": {},
   "source": [
    "Exporting the results is straight forward and combining the ID and the weighting vector provides a very flexible way for the data management."
   ]
  },
  {
   "cell_type": "code",
   "execution_count": null,
   "id": "0500c6dc-57fa-429f-9f0a-2f1fc7b7a864",
   "metadata": {
    "scrolled": true
   },
   "outputs": [],
   "source": [
    "# Extract relevant information from list\n",
    "WeightExport <- cbind(RakingResult$caseid,\n",
    "      RakingResult$weightvec) %>%\n",
    "    as.data.frame() %>%\n",
    "    setNames(c(\"caseid\",\"weight\")) \n",
    "\n",
    "# Write SPSS file\n",
    "write_sav(WeightExport, \"data/VIC_AT_Weights.sav\")\n",
    "\n",
    "# Print exported data\n",
    "datatable(WeightExport)"
   ]
  },
  {
   "cell_type": "markdown",
   "id": "53c0ecd6-fe5f-44d2-bd07-4934bab5089e",
   "metadata": {},
   "source": [
    "## Weights as survey quality measure"
   ]
  },
  {
   "cell_type": "markdown",
   "id": "d41a7591-c476-4aaf-8905-9d07f0531338",
   "metadata": {},
   "source": [
    "Weights are nothing else than bias measures based on a set of reference variables. And as such, we can use them to get an idea about the survey quality. Of course, the conclusions on the quality in the quality of the survey in total is indicative as the weighting procedure considers only a small set of variables and the implications for conclusions drawn from variables, which where not included in the weighting, might be completely unrelated. Still, a survey with smaller weights certainly  the answer is complicated and depends on different factors. \n",
    "\n",
    "\n",
    "The summary of the raking results provided us with some descriptives of the weight and the design effect, which we can use to get a graphical and numerical measure of the bias our data suffers from."
   ]
  },
  {
   "cell_type": "markdown",
   "id": "597761a2-c6a1-472e-8a77-f19aaa744838",
   "metadata": {},
   "source": [
    "### 1. Graphical assessment"
   ]
  },
  {
   "cell_type": "code",
   "execution_count": null,
   "id": "b1be5991-136c-49c2-a5ee-459df69bd2a9",
   "metadata": {},
   "outputs": [],
   "source": [
    "data.frame(Weight = RakingResult$weightvec) %>%\n",
    "    ggplot(aes(as.numeric(Weight))) +\n",
    "    geom_histogram(color=\"black\", fill=\"white\") +\n",
    "    theme_minimal() +\n",
    "    labs(x = \"Weight\",\n",
    "         y = \"Frequency\") +\n",
    "    theme(legend.position=\"none\",\n",
    "          plot.margin=unit(c(0,0,-0.5,0), \"cm\")) +\n",
    "    geom_vline(xintercept = 1, colour = \"red\")"
   ]
  },
  {
   "cell_type": "code",
   "execution_count": null,
   "id": "15258d4d-3bf2-46b5-a22e-45ba690c2cd9",
   "metadata": {},
   "outputs": [],
   "source": [
    "data.frame(Weight = RakingResult$weightvec) %>%\n",
    "  ggplot(aes(as.numeric(Weight))) +\n",
    "  geom_boxplot(width=0.6) +\n",
    "  theme_minimal() +\n",
    "  labs(x = \"Weight\",\n",
    "       y = \"\") +\n",
    "  scale_y_continuous(limits = c(-0.5,0.5)) +\n",
    "  scale_x_continuous(limits = c(0.5,2)) +\n",
    "  theme(legend.position=\"none\",\n",
    "        axis.text.y=element_blank(),\n",
    "        axis.ticks.y=element_blank(),\n",
    "        plot.margin=unit(c(0.25,0,0,0), \"cm\"),\n",
    "        strip.text.x = element_blank()) +\n",
    "    geom_vline(xintercept = 1, colour = \"red\")"
   ]
  },
  {
   "cell_type": "markdown",
   "id": "3bf6ff60-5f11-4dde-aa60-fee34cf13750",
   "metadata": {
    "jp-MarkdownHeadingCollapsed": true
   },
   "source": [
    "### 2. Numerical Assessment"
   ]
  },
  {
   "cell_type": "markdown",
   "id": "8b883dca-8251-43a3-bc92-e9b6460b2c9f",
   "metadata": {},
   "source": [
    "We can extract the descriptives and the general design effect directly from the raking results"
   ]
  },
  {
   "cell_type": "code",
   "execution_count": null,
   "id": "8cac8750-81e2-4401-a7e0-0119495905c0",
   "metadata": {},
   "outputs": [],
   "source": [
    "# Get the summary statistics and general design weight\n",
    "RakingSummary <- RakingResult %>%\n",
    "    summary() %>%\n",
    "    .[c(\"weight.summary\",\n",
    "        \"general.design.effect\")] %>%\n",
    "    unlist() %>%\n",
    "    round(5) %>%\n",
    "    as.data.frame()\n",
    "\n",
    "# A reformat the labels\n",
    "RakingSummary <- rownames(RakingSummary) %>%\n",
    "    str_remove_all(\"summary\") %>%\n",
    "    str_remove_all(\"general\") %>%\n",
    "    gsub(\"[.]\", \" \", .) %>%\n",
    "    str_replace_all(\"weight\",\"Weight\") %>%\n",
    "    str_replace_all(\"design\", \"Design\") %>%\n",
    "    cbind(RakingSummary) %>%\n",
    "    setNames(c(\"Attribute\",\"Value\"))"
   ]
  },
  {
   "cell_type": "markdown",
   "id": "3bbcd5a5-0de3-4b6d-acb7-f6d9250b1d02",
   "metadata": {},
   "source": [
    "In addition, it is helpful to get some information about outliers in the weight variable. We will identify the number of weights greater than 3 and 5 and calculate the sum of these weights. "
   ]
  },
  {
   "cell_type": "code",
   "execution_count": null,
   "id": "dd587b4c-9cbb-46b7-9aa7-4456ca3369a6",
   "metadata": {},
   "outputs": [],
   "source": [
    "RakingSummary <- rbind(\n",
    "    # Add sample size\n",
    "    data.frame(Attribute = 'n',\n",
    "               Value = length(RakingResult$weightvec)),\n",
    "    # Add standard deviation of weights\n",
    "    data.frame(Attribute = 'Standard deviation',\n",
    "               Value = sd(RakingResult$weightvec)),\n",
    "    RakingSummary,\n",
    "    # Diagnostics for weights greater than 3\n",
    "    data.frame(Attribute = 'No. of weights > 3 (W>3)',\n",
    "               Value = sum(RakingResult$weightvec > 3)),\n",
    "    data.frame(Attribute = 'Sum of W>3',\n",
    "               Value = sum(RakingResult$weightvec > 3)),\n",
    "    # Diagnostics for weights greater than 5\n",
    "    data.frame(Attribute = 'No. of weights > 5 (W>5)',\n",
    "               Value = sum(RakingResult$weightvec > 5)),\n",
    "    data.frame(Attribute = 'Sum of W>5',\n",
    "               Value = sum(RakingResult$weightvec > 5))\n",
    "     )\n",
    "\n",
    "rownames(RakingSummary) <- NULL"
   ]
  },
  {
   "cell_type": "code",
   "execution_count": null,
   "id": "e5482c30-3ae8-4274-a0f9-9f9f5be29b9b",
   "metadata": {},
   "outputs": [],
   "source": [
    "RakingSummary"
   ]
  },
  {
   "cell_type": "markdown",
   "id": "08abb248-829a-4592-8798-54b190b552b1",
   "metadata": {},
   "source": [
    "### 3. Design effect"
   ]
  },
  {
   "cell_type": "markdown",
   "id": "57a5c8c6-c6db-4ec0-8923-664d843a38fc",
   "metadata": {},
   "source": [
    "\n",
    "But as with most statistics, descriptives are were useful get a first idea, but we usally  And of course, the answer is complicated and depends on different factors. Calculating the design effect helps to get an understanding of the gravity of the issue. \n",
    "\n",
    "Biemer and Christ (2012) call it the _Unequal Weighting Effect (UWE)_ defined by:"
   ]
  },
  {
   "cell_type": "markdown",
   "id": "f5c0273d-aa50-4f07-a74a-b3f74d5533e9",
   "metadata": {},
   "source": [
    "$$\n",
    "UWE = 1 + cv^2\n",
    "$$"
   ]
  },
  {
   "cell_type": "markdown",
   "id": "37baed9e-ba77-447c-bde5-ead5cd68fede",
   "metadata": {},
   "source": [
    "with $cv$ as coefficent of variance of weights:"
   ]
  },
  {
   "cell_type": "markdown",
   "id": "fc128c81-b200-4bda-b698-e2f6326727f1",
   "metadata": {},
   "source": [
    "$$\n",
    "cv = \\frac{sd_{weights}}{mean_{weights}}\n",
    "$$"
   ]
  },
  {
   "cell_type": "markdown",
   "id": "a82f9072-4d12-470d-af1b-eb708363da8e",
   "metadata": {},
   "source": [
    "> Biemer, P. P., & Christ, S. L. (2012). _Weighting survey data_. In International handbook of survey methodology (pp. 317-341). Routledge."
   ]
  },
  {
   "cell_type": "markdown",
   "id": "5e405d3b-15dc-4217-8e11-af5609a5ba83",
   "metadata": {},
   "source": [
    "We can derive $cv$ for our weights."
   ]
  },
  {
   "cell_type": "code",
   "execution_count": null,
   "id": "37b29191-a34f-4c46-a590-f1056adbddec",
   "metadata": {},
   "outputs": [],
   "source": [
    "sd_weights  <- sd(RakingResult$weightvec)\n",
    "mean_weights  <- mean(RakingResult$weightvec)\n",
    "cv  <- sd_weights/mean_weights\n",
    "cv"
   ]
  },
  {
   "cell_type": "markdown",
   "id": "73aeaa82-b654-462e-b0d7-b4bbb2099139",
   "metadata": {},
   "source": [
    "And now the $UWE$"
   ]
  },
  {
   "cell_type": "code",
   "execution_count": null,
   "id": "758a1ec7-ef09-447f-bc70-1734235f8f34",
   "metadata": {},
   "outputs": [],
   "source": [
    "UWE <- 1 + (cv * cv)\n",
    "UWE"
   ]
  },
  {
   "cell_type": "markdown",
   "id": "a3839c5c-a11d-4f47-ad7e-1b7ea370cb3c",
   "metadata": {},
   "source": [
    "Effective Sample Size might be a better way to understand the impact of the weights.\n",
    "\n",
    "$$\n",
    "Effective\\ Size = \\frac{n}{D_{eff}}\n",
    "$$\n",
    "\n",
    "We have in our data this number of cases:"
   ]
  },
  {
   "cell_type": "code",
   "execution_count": null,
   "id": "c3c8573e-bf4d-42ca-bf1c-958646414170",
   "metadata": {},
   "outputs": [],
   "source": [
    "length(RakingResult$weightvec)"
   ]
  },
  {
   "cell_type": "markdown",
   "id": "653e6aed-3a09-4636-91d0-1fe4e6188578",
   "metadata": {},
   "source": [
    "The effect sample size is:"
   ]
  },
  {
   "cell_type": "code",
   "execution_count": null,
   "id": "807c7efa-ce44-4a6c-b650-1ccbf337c281",
   "metadata": {},
   "outputs": [],
   "source": [
    "length(RakingResult$weightvec)/summary(RakingResult)$general.design.effect"
   ]
  },
  {
   "cell_type": "markdown",
   "id": "18ea05a8-33b7-447a-b441-37400836c6fa",
   "metadata": {},
   "source": [
    "Alternatively, if we only have the weights:\n",
    "\n",
    "$$\n",
    "Effective\\ Size = \\frac{(\\sum_{i=1}^n w_i)^2}{\\sum_{i=1}^n w_i^2}\n",
    "$$\n",
    "\n",
    "For our example this translates into:"
   ]
  },
  {
   "cell_type": "code",
   "execution_count": null,
   "id": "5e8cd1fd-8d36-4820-80ef-1678f7323e70",
   "metadata": {},
   "outputs": [],
   "source": [
    "(sum(RakingResult$weightvec)^2)/sum(RakingResult$weightvec^2)"
   ]
  },
  {
   "cell_type": "markdown",
   "id": "78c095ed-bf98-4689-b07c-4e49bf563cba",
   "metadata": {},
   "source": [
    "### 4. Summary assessment"
   ]
  },
  {
   "cell_type": "markdown",
   "id": "5f242152-eff9-46bf-8817-bcbbcc66e234",
   "metadata": {},
   "source": [
    "\n",
    "The raking worked and the created weights indicate only small adjustments. Obviously, thats only partially surprising as the sampling of the survey was a stratified quota sampling strategy was applied for gender, age, education and region.\n",
    "\n",
    "But we need to keep in mind, that addressing sampling biases has limitations."
   ]
  },
  {
   "cell_type": "markdown",
   "id": "c0446e7d-ad84-483b-8538-0f6d5ec617d1",
   "metadata": {},
   "source": [
    "### 5. Putting things into perspective"
   ]
  },
  {
   "cell_type": "markdown",
   "id": "2f0ae082-aef7-4f42-aecb-99ea5bc7bd16",
   "metadata": {},
   "source": [
    "<img src=\"ressources/Tab_Weights_VIC123_AT.png\"  width=600 height=600 />"
   ]
  },
  {
   "cell_type": "markdown",
   "id": "69ba67fd-16ae-4f68-8bce-d4d17a7e25cc",
   "metadata": {},
   "source": [
    "<img src=\"ressources/Plot_Weights_VIC123_AT.png\"  width=700 height=700 />"
   ]
  }
 ],
 "metadata": {
  "kernelspec": {
   "display_name": "R",
   "language": "R",
   "name": "ir"
  },
  "language_info": {
   "codemirror_mode": "r",
   "file_extension": ".r",
   "mimetype": "text/x-r-source",
   "name": "R",
   "pygments_lexer": "r",
   "version": "4.3.1"
  }
 },
 "nbformat": 4,
 "nbformat_minor": 5
}
