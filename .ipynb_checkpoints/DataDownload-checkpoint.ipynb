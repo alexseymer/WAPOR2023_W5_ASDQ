{
 "cells": [
  {
   "cell_type": "markdown",
   "id": "b6fc6c53-c1f4-4ad2-8380-5fec42eaf7e3",
   "metadata": {},
   "source": [
    "# Download data for workshop\n",
    "\n",
    "## Part 0: Preparing the data\n",
    "\n",
    "Author: <a href=\"mailto:alexander.seymer@plus.ac.at?subject=Regarding the WAPOR 2023 workshop\">Alexander Seymer @ PLUS</a>\n",
    "\n",
    "Date: September 19, 2023\n",
    "\n",
    "\n",
    "We will use different data, which is freely avaiable to you, but data protection requirements require your consent before using the data. Hence, we do not provide the data in this repository, but guide you through downloading and preparing the data for the workshop.\n",
    "\n",
    "### Prepare the R environment"
   ]
  },
  {
   "cell_type": "code",
   "execution_count": 3,
   "id": "3d8820a1-0651-4d8a-91ef-b974ee16677b",
   "metadata": {},
   "outputs": [],
   "source": [
    "source(\"install.R\")"
   ]
  },
  {
   "cell_type": "markdown",
   "id": "cdadb5c8-7cc5-4701-bf05-8dd6a1af3852",
   "metadata": {},
   "source": [
    "### Download European Social Survey round 10 data\n",
    "\n",
    "Visit the ESS Data Portal and select [ESS round 10 - 2020. Democracy, Digital social contacts](https://ess-search.nsd.no/en/study/172ac431-2a06-41df-9dab-c1fd8f3877e7). Login to download the **ES10 - integrated file, edition 3.1** and the **ESS10 Self-completion - integrated file, edition 3.0**. Choose the CSV file download option. Store both zip files in the `data` directory of this repository or edit the `DataDir` attribute of the function accordingly.\n",
    "\n",
    "The following code will take a few seconds to run as we first load the entire ESS 10 data and store it for later."
   ]
  },
  {
   "cell_type": "code",
   "execution_count": 9,
   "id": "350e651d-a84d-4d82-8d2b-75aeb40277dc",
   "metadata": {},
   "outputs": [],
   "source": [
    "c(\"ESS10\", \"ESS10SC\") %>%\n",
    "lapply(function(FileNames, DataDir = \"data\"){\n",
    "  # Read full file name\n",
    "  list.files(DataDir,\n",
    "             pattern = paste0(FileNames,\".zip\"),\n",
    "             full.names = TRUE) %>%\n",
    "    # Unzip file\n",
    "    unz(filename = paste0(FileNames,\".csv\")) %>%\n",
    "    # Read CSV file from Zip file\n",
    "    read.csv() %>%\n",
    "    # Store ESS data \n",
    "    saveRDS(paste0(DataDir,\"/\",\n",
    "                   FileNames,\".Rdata\"))\n",
    "  # Delete Zip file\n",
    "  list.files(DataDir,\n",
    "             pattern = paste0(FileNames,\".zip\"),\n",
    "             full.names = TRUE) %>%\n",
    "    file.remove()\n",
    "})"
   ]
  },
  {
   "cell_type": "markdown",
   "id": "2d2757e6-ffd1-43b1-81dc-19927bbfa5ce",
   "metadata": {},
   "source": [
    "### ToDo \n",
    "\n",
    "declare 77,88,99  as NA"
   ]
  }
 ],
 "metadata": {
  "kernelspec": {
   "display_name": "R",
   "language": "R",
   "name": "ir"
  },
  "language_info": {
   "codemirror_mode": "r",
   "file_extension": ".r",
   "mimetype": "text/x-r-source",
   "name": "R",
   "pygments_lexer": "r",
   "version": "4.3.1"
  }
 },
 "nbformat": 4,
 "nbformat_minor": 5
}
