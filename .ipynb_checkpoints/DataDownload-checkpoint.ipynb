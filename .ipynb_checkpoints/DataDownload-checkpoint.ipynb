{
 "cells": [
  {
   "cell_type": "markdown",
   "id": "b6fc6c53-c1f4-4ad2-8380-5fec42eaf7e3",
   "metadata": {},
   "source": [
    "# Download data for workshop\n",
    "\n",
    "## Part 0: Preparing the data\n",
    "\n",
    "Author: <a href=\"mailto:alexander.seymer@plus.ac.at?subject=Regarding the WAPOR 2023 workshop\">Alexander Seymer @ PLUS</a>\n",
    "\n",
    "Date: September 19, 2023\n",
    "\n",
    "\n",
    "We will use different data, which is (most likely) freely avaiable to you, but data protection standards require your consent before using the data. Hence, we do not provide the data in this repository, but guide you through downloading and preparing the data for the workshop.\n",
    "\n",
    "### Prepare the R environment"
   ]
  },
  {
   "cell_type": "code",
   "execution_count": 1,
   "id": "3d8820a1-0651-4d8a-91ef-b974ee16677b",
   "metadata": {},
   "outputs": [
    {
     "name": "stderr",
     "output_type": "stream",
     "text": [
      "Lade nötiges Paket: pacman\n",
      "\n"
     ]
    }
   ],
   "source": [
    "source(\"install.R\")"
   ]
  },
  {
   "cell_type": "markdown",
   "id": "83275168-0ee6-4b81-9dc0-c34162637643",
   "metadata": {},
   "source": [
    "### 1. Define a file loader\n",
    "\n",
    "The following function combines four steps to prepare the data for the workshop:\n",
    "1. Unzip a folder\n",
    "2. Read the CSV file from the unzipped folder\n",
    "3. Store the read data as Rdata\n",
    "4. Delete the original ZIP file\n",
    "\n",
    "In the standard settings the function assumes identical names of the ZIP folder and the CSV file and the ZIP file being stored in the `data` directory. Its possible to change these settings with CsvFileName and DataDir options."
   ]
  },
  {
   "cell_type": "code",
   "execution_count": 37,
   "id": "a1704b9d-3d27-4a11-96ad-67ca02edc7b3",
   "metadata": {},
   "outputs": [],
   "source": [
    "FileLoader <- function(ZipFileName, \n",
    "                       CsvFileName = ZipFileName,\n",
    "                       DataDir = \"data/\"){\n",
    "  # Check if file exists already\n",
    "  if(file.exists(paste0(DataDir, ZipFileName,\".Rdata\"))) { \n",
    "    return(cat(paste0(\"You have already a file called \", ZipFileName, \".Rdata in the \", DataDir, \" directory!\")))}\n",
    "  # Read full file name\n",
    "  list.files(DataDir,\n",
    "             pattern = paste0(ZipFileName,\".zip\"),\n",
    "             full.names = TRUE) %>%\n",
    "    # Unzip file\n",
    "    unz(filename = paste0(CsvFileName,\".csv\")) %>%\n",
    "    # Read CSV file from Zip file\n",
    "    read.csv() %>%\n",
    "    # Store ESS data \n",
    "    saveRDS(paste0(DataDir,\n",
    "                   ZipFileName,\".Rdata\"))\n",
    "  # Delete Zip file\n",
    "  list.files(DataDir,\n",
    "             pattern = paste0(ZipFileName,\".zip\"),\n",
    "             full.names = TRUE) %>%\n",
    "    file.remove()\n",
    "  return(cat(\"Done!\"))\n",
    "}"
   ]
  },
  {
   "cell_type": "markdown",
   "id": "1ff51cbc-9d22-41d5-bde0-ce21fdac3276",
   "metadata": {},
   "source": [
    "### 1. Values in Crisis International\n",
    "\n",
    "For Session 2, we will use the [Values in Crisis International (SUF Edition) data](https://data.aussda.at/dataset.xhtml?persistentId=doi:10.11587/LIHK1L). Please visit the Austrian Social Science Data Archive (AUSSDA) and download the data. \n",
    "You will need to login to download the data. Please check, if you can login via your [institution](https://data.aussda.at/loginpage.xhtml?redirectPage=dataverse.xhtml). \n",
    "\n",
    "**You only need to register, if your institution is NOT listed!**\n",
    "\n",
    "The registration takes some time and your credetials will be checked, hence you will need to register a few days before the workshop.\n",
    "\n",
    "The standard filename for the download is `10742_da01_en_v2_0.zip`."
   ]
  },
  {
   "cell_type": "code",
   "execution_count": 39,
   "id": "10962932-6ebe-4732-800b-24c543a58ccd",
   "metadata": {},
   "outputs": [
    {
     "name": "stdout",
     "output_type": "stream",
     "text": [
      "You have already a file called 10742_da01_en_v2_0.Rdata!"
     ]
    }
   ],
   "source": [
    "FileLoader(\"10742_da01_en_v2_0\")"
   ]
  },
  {
   "cell_type": "markdown",
   "id": "cdadb5c8-7cc5-4701-bf05-8dd6a1af3852",
   "metadata": {},
   "source": [
    "### 2. European Social Survey round 10 data\n",
    "\n",
    "Visit the ESS Data Portal and select [ESS round 10 - 2020. Democracy, Digital social contacts](https://ess-search.nsd.no/en/study/172ac431-2a06-41df-9dab-c1fd8f3877e7). Login to download the **ESS10 - integrated file, edition 3.1** and the **ESS10 Self-completion - integrated file, edition 3.0**. Choose the CSV file download option. Store both zip files in the `data` directory of this repository or edit the `DataDir` attribute of the function accordingly.\n",
    "\n",
    "#### 2.1. Load ESS10 - integrated file, edition 3.1\n",
    "The following code will take a few seconds to run as we first load the entire ESS 10 data and store it for later."
   ]
  },
  {
   "cell_type": "code",
   "execution_count": 36,
   "id": "350e651d-a84d-4d82-8d2b-75aeb40277dc",
   "metadata": {},
   "outputs": [
    {
     "name": "stdout",
     "output_type": "stream",
     "text": [
      "You have already a file called ESS10.Rdata!You have already a file called ESS10SC.Rdata!"
     ]
    }
   ],
   "source": [
    "FileLoader(\"ESS10\")"
   ]
  },
  {
   "cell_type": "markdown",
   "id": "02140cb3-2f6e-4a28-9aee-69a31e7a2d60",
   "metadata": {},
   "source": [
    "#### 2.2. Load ESS10 Self-completion - integrated file, edition 3.0"
   ]
  },
  {
   "cell_type": "code",
   "execution_count": null,
   "id": "236e7fef-8513-4de1-8792-ec702e89bc20",
   "metadata": {},
   "outputs": [],
   "source": [
    "FileLoader(\"ESS10SC\")"
   ]
  },
  {
   "cell_type": "markdown",
   "id": "2d2757e6-ffd1-43b1-81dc-19927bbfa5ce",
   "metadata": {},
   "source": [
    "### ToDo \n",
    "\n",
    "declare 77,88,99  as NA"
   ]
  }
 ],
 "metadata": {
  "kernelspec": {
   "display_name": "R",
   "language": "R",
   "name": "ir"
  },
  "language_info": {
   "codemirror_mode": "r",
   "file_extension": ".r",
   "mimetype": "text/x-r-source",
   "name": "R",
   "pygments_lexer": "r",
   "version": "4.3.1"
  }
 },
 "nbformat": 4,
 "nbformat_minor": 5
}
