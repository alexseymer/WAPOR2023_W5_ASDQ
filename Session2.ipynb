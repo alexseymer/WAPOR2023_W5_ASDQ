{
 "cells": [
  {
   "cell_type": "markdown",
   "id": "d8b25b9e-4920-4870-8683-e3cd55ff426e",
   "metadata": {},
   "source": [
    "# [Workshop 5. Assessment of Survey Data Quality](https://wapor.org/events/annual-conference/current-conference/training-workshops/)\n",
    "\n",
    "## Part II: Design effect and weighting\n",
    "\n",
    "Author: <a href=\"mailto:alexander.seymer@plus.ac.at?subject=Regarding the WAPOR 2023 workshop\">Alexander Seymer @ PLUS</a>\n",
    "\n",
    "Date: September 19, 2023\n",
    "\n",
    "### Abstract\n",
    "\n",
    "In this session of the workshop, the design effect, as measure for the impact of the sampling design on the variance of an estimator, and weighting as tool to account for complex sampling designs will be discussed.\n",
    "\n",
    "### Preparing the R session\n"
   ]
  },
  {
   "cell_type": "code",
   "execution_count": 5,
   "id": "4ba38e1a-ad16-48e8-b5d3-0bc1342dcfc6",
   "metadata": {},
   "outputs": [],
   "source": [
    "source(\"install.R\")"
   ]
  },
  {
   "cell_type": "markdown",
   "id": "6fa2154e-eb35-4acd-9c16-c05ff1ef6e14",
   "metadata": {},
   "source": [
    "### Weighting\n",
    "\n",
    "Although we will use R, alternative software packages provide means to employ weights:\n",
    "\n",
    "| Software | Reference |\n",
    "| -------- | --------- |\n",
    "| Python | Paczkowski, W. R. (2022). Modern survey analysis: Using Python for deeper insights. Springer Nature. [https://link.springer.com/book/10.1007/978-3-030-76267-4](https://link.springer.com/book/10.1007/978-3-030-76267-4) | \n",
    "| SAS | Lewis, T. H. (2016). [Complex survey data analysis with SAS. CRC Press.](https://www.routledge.com/Complex-Survey-Data-Analysis-with-SAS/Lewis/p/book/9781498776776) |\n",
    "| SPSS | Zou, D., Lloyd, J. E. V., & Baumbusch, J. L. (2019). Using SPSS to Analyze Complex Survey Data: A Primer. Journal of Modern Applied Statistical Methods, 18. [http://jmasm.com/index.php/jmasm/article/view/1026](http://jmasm.com/index.php/jmasm/article/view/1026) | \n",
    "| STATA | Weighing Data in Stata—Stata Help—Reed College. (2014). Retrieved September 7th, 2023, from [https://www.reed.edu/psychology/stata/gs/tutorials/weights.html](https://www.reed.edu/psychology/stata/gs/tutorials/weights.html) |\n",
    "\n",
    "\n",
    "Complex sampling designs for surveys are commonly applied by employing:\n",
    "\n",
    "- stratification (divide the population in homogenous groups and sample from each group a specific number);\n",
    "- clustering (divide the population in groups, e.g. regions, and sample from a random subset of this groups);\n",
    "- unequal sampling (oversampling of subgroups of interest).\n",
    "\n",
    "Considering these samples as random samples will result in biased standard errors. \n",
    "\n",
    "A commmon approach to account for the bias is providing design weights. Most surveys using complex sampling strategies are providing weights to adjust for the deviation from the random sampling.\n"
   ]
  },
  {
   "cell_type": "code",
   "execution_count": null,
   "id": "d9a8c03e-7fd0-4f30-9366-4271f0a0bc42",
   "metadata": {},
   "outputs": [],
   "source": []
  },
  {
   "cell_type": "code",
   "execution_count": null,
   "id": "da383cba-7f60-4cd7-a004-e14075296763",
   "metadata": {},
   "outputs": [],
   "source": []
  },
  {
   "cell_type": "code",
   "execution_count": null,
   "id": "acaf8f6c-7f2d-4901-b757-5730c6024dc8",
   "metadata": {},
   "outputs": [],
   "source": []
  },
  {
   "cell_type": "code",
   "execution_count": null,
   "id": "95f51611-379b-4dd7-b592-223b77ac46ed",
   "metadata": {},
   "outputs": [],
   "source": []
  },
  {
   "cell_type": "markdown",
   "id": "5f2742b2-6f58-476a-9236-87b064ff48a0",
   "metadata": {},
   "source": [
    "### Design effect\n",
    "\n",
    "And as with all biases, the first and foremost question is how serious is the issue? And of course, the answer is complicated and depends on different factors. Calculating the design effect helps to get an understanding of the gravity of the issue. The \n"
   ]
  }
 ],
 "metadata": {
  "kernelspec": {
   "display_name": "R",
   "language": "R",
   "name": "ir"
  },
  "language_info": {
   "codemirror_mode": "r",
   "file_extension": ".r",
   "mimetype": "text/x-r-source",
   "name": "R",
   "pygments_lexer": "r",
   "version": "4.3.1"
  }
 },
 "nbformat": 4,
 "nbformat_minor": 5
}
