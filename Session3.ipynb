{
 "cells": [
  {
   "cell_type": "markdown",
   "id": "87f60dd7",
   "metadata": {},
   "source": [
    "Preparing the R session\n"
   ]
  },
  {
   "cell_type": "code",
   "execution_count": null,
   "id": "90e6cef4-8c1d-44e7-9ee7-8d8070a8d291",
   "metadata": {
    "vscode": {
     "languageId": "r"
    }
   },
   "outputs": [],
   "source": [
    "source(\"install.R\")"
   ]
  },
  {
   "cell_type": "markdown",
   "id": "8ab2dd57",
   "metadata": {},
   "source": [
    "At first we load the data for our short experiment:"
   ]
  },
  {
   "cell_type": "code",
   "execution_count": null,
   "id": "6a54d17e",
   "metadata": {
    "vscode": {
     "languageId": "r"
    }
   },
   "outputs": [],
   "source": [
    "# Read data for UK and Austria\n",
    "uk_ten <- readRDS(\"data/ESS10.Rdata\") %>%\n",
    "  dplyr::filter(cntry == \"GB\") \n",
    "at_ten <- readRDS(\"data/ESS10SC.Rdata\") %>%\n",
    "  dplyr::filter(cntry == \"AT\")\n"
   ]
  },
  {
   "cell_type": "markdown",
   "id": "ca3de30a",
   "metadata": {},
   "source": [
    "In our second step we select the variables of interest:\n",
    "Those are the ID numbers of the cases, the information on where (Country) the data was collected and then 5 variables that include different assessements. \n",
    "\n",
    "You can look up information on the data via the ESS homepage:\n",
    "https://stessrelpubprodwe.blob.core.windows.net/data/round10/fieldwork/source/ESS10_source_questionnaires.pdf\n",
    "https://stessrelpubprodwe.blob.core.windows.net/data/round10/fieldwork/source/ESS10_source_questionnaire_self_completion_paper.pdf\n",
    "\n",
    "The codebook is online as well: https://ess-search.nsd.no/en/study/172ac431-2a06-41df-9dab-c1fd8f3877e7"
   ]
  },
  {
   "cell_type": "code",
   "execution_count": null,
   "id": "69171b19",
   "metadata": {
    "vscode": {
     "languageId": "r"
    }
   },
   "outputs": [],
   "source": [
    "# Define variables of interest\n",
    "Var_Selection <- c(\"idno\", \"cntry\",\n",
    "                   \"gvhanc19\", \n",
    "                   \"gvjobc19\", \"gveldc19\", \n",
    "                   \"gvfamc19\", \"hscopc19\" \n",
    "                   )\n",
    "\n",
    "# Combine both datasets and select variables of interest\n",
    "dataWS <- rbind(uk_ten[, Var_Selection], \n",
    "                at_ten[, Var_Selection])\n",
    "\n",
    "# Print the merged dataset\n",
    "print(dataWS)\n",
    "\n",
    "# Create a table of counts for countries \"AT\" and \"UK\" to verify everything worked correctly x\n",
    "country_counts <- table(dataWS$cntry)\n",
    "\n",
    "table(dataWS$gvhanc19,\n",
    "      dataWS$cntry)"
   ]
  },
  {
   "cell_type": "markdown",
   "id": "ffb8236f",
   "metadata": {},
   "source": [
    "Now we try to get info on response styles.\n",
    "This is a first experiment. It is simply creating information on the amount of times someone agreed to a statement or used only the extreme categories at the far ends of a scale or only selected the same answers on all the items. "
   ]
  },
  {
   "cell_type": "code",
   "execution_count": null,
   "id": "2fd56ea8-d237-4788-8336-ea56227f8dda",
   "metadata": {
    "vscode": {
     "languageId": "r"
    }
   },
   "outputs": [],
   "source": [
    "\n",
    "\n",
    "\n",
    "\n",
    "# count \"extremes\" #\n",
    "lapply(Var_Selection[-c(1,2)], \n",
    "       function(VarName){\n",
    "         x <- dataWS[VarName]\n",
    "         return(sum(x == 0 | x == 10))\n",
    "       }) %>%\n",
    "  setNames(Var_Selection[-c(1,2)])\n",
    "\n",
    "\n",
    "# Count \"yes\"\n",
    "lapply(Var_Selection[-c(1,2)], \n",
    "       function(VarName){\n",
    "         x <- dataWS[VarName]\n",
    "         return(sum(x == 10))\n",
    "       }) %>%\n",
    "  setNames(Var_Selection[-c(1,2)])\n",
    "\n",
    "\n",
    "# count \"extremes\" #\n",
    "dataWS <- lapply(1:nrow(dataWS), function(RowNumber){\n",
    "  x <- dataWS[RowNumber,Var_Selection[-c(1,2)]]\n",
    "  return(sum(x == 0 | x == 10))\n",
    "}) %>%\n",
    "  unlist() %>%\n",
    "  cbind(dataWS,.) %>%\n",
    "  setNames(c(colnames(.)[-ncol(.)], \"ExtremeValues\"))\n",
    "\n",
    "# Count \"yes\"\n",
    "dataWS <- lapply(1:nrow(dataWS), function(RowNumber){\n",
    "  x <- dataWS[RowNumber,Var_Selection[-c(1,2)]]\n",
    "  return(sum(x == 10))\n",
    "}) %>%\n",
    "  unlist() %>%\n",
    "  cbind(dataWS,.) %>%\n",
    "  setNames(c(colnames(.)[-ncol(.)], \"YesValues\"))\n",
    "  \n",
    "# Categorize extremes \n",
    "dataWS$ExtremeCat[dataWS$ExtremeValues<3] <- 0\n",
    "dataWS$ExtremeCat[dataWS$ExtremeValues==3] <- 1\n",
    "dataWS$ExtremeCat[dataWS$ExtremeValues==4] <- 2\n",
    "dataWS$ExtremeCat[dataWS$ExtremeValues==5] <- 3\n",
    "dataWS$ExtremeCat <-  factor(dataWS$ExtremeCat, \n",
    "                             levels = 0:3,\n",
    "                             labels = c(\"no tendency\", \"some tendency\", \n",
    "                                        \"tendency\", \"complete tendency\"),\n",
    "                             ordered = TRUE)\n",
    "\n",
    "# Categorize yes\n",
    "dataWS$YesCat[dataWS$YesValues<3] <- 0\n",
    "dataWS$YesCat[dataWS$YesValues==3] <- 1\n",
    "dataWS$YesCat[dataWS$YesValues==4] <- 2\n",
    "dataWS$YesCat[dataWS$YesValues==5] <- 3\n",
    "dataWS$YesCat <-  factor(dataWS$YesCat, \n",
    "                             levels = 0:3,\n",
    "                             labels = c(\"no tendency\", \"some tendency\", \n",
    "                                        \"tendency\", \"complete tendency\"),\n",
    "                             ordered = TRUE)\n",
    "\n",
    "## function to compute sum / mean scores with .X function ##\n",
    "dataWS <- lapply(dataWS$idno, function(RowNumber){\n",
    "  tmp <- dataWS[dataWS$idno == RowNumber,Var_Selection[-c(1,2)]]  \n",
    "  return(min(tmp) == max(tmp))\n",
    "}) %>%\n",
    "  unlist() %>%\n",
    "  cbind(dataWS,.) %>%\n",
    "  setNames(c(colnames(.)[-ncol(.)], \"Straight\"))\n",
    "\n",
    "dataWS %>%\n",
    "  dplyr::select(ExtremeCat, YesCat, Straight) %>%\n",
    "  DT::datatable()\n",
    "\n",
    "table(dataWS$ExtremeCat,\n",
    "      dataWS$cntry) %>%\n",
    "  prop.table(2) %>%\n",
    "  round(3)\n",
    "\n",
    "\n",
    "table(dataWS$YesCat,\n",
    "      dataWS$cntry) %>%\n",
    "  prop.table(2) %>%\n",
    "  round(3)\n",
    "\n",
    "\n",
    "table(dataWS$Straight,\n",
    "      dataWS$cntry) %>%\n",
    "  prop.table(2) %>%\n",
    "  round(3)\n",
    "\n",
    "wilcox.test(as.numeric(ExtremeCat)~cntry, dataWS)\n",
    "\n",
    "wilcox.test(as.numeric(YesCat)~cntry, dataWS)\n",
    "\n",
    "wilcox.test(as.numeric(Straight)~cntry, dataWS)\n",
    "\n"
   ]
  }
 ],
 "metadata": {
  "kernelspec": {
   "display_name": "R",
   "language": "R",
   "name": "ir"
  },
  "language_info": {
   "codemirror_mode": "r",
   "file_extension": ".r",
   "mimetype": "text/x-r-source",
   "name": "R",
   "pygments_lexer": "r",
   "version": "4.3.1"
  }
 },
 "nbformat": 4,
 "nbformat_minor": 5
}
