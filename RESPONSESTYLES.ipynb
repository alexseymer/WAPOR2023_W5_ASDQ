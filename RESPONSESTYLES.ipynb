{
 "cells": [
  {
   "cell_type": "markdown",
   "id": "cfbb306e-94cf-4d7a-a54f-3641e2752cfd",
   "metadata": {},
   "source": [
    "# [Workshop 5. Assessment of Survey Data Quality](https://wapor.org/events/annual-conference/current-conference/training-workshops/)\n",
    "\n",
    "# Part D: Response styles\n",
    "\n",
    "Author: <a href=\"mailto:Dimitri.Prandner@jku.at?subject=Regarding the WAPOR 2023 workshop\">Dimitri Prandner @ JKU</a>\n",
    "\n",
    "Date: September 19, 2023"
   ]
  },
  {
   "cell_type": "markdown",
   "id": "35fd727a-82f7-4734-a742-5af59a01c8ac",
   "metadata": {
    "jp-MarkdownHeadingCollapsed": true
   },
   "source": [
    "## Requirements"
   ]
  },
  {
   "cell_type": "markdown",
   "id": "cca16aa1-21ff-47fd-b08e-7e1bdf5b3c86",
   "metadata": {},
   "source": [
    "To run the script without errors, the required data needs to be in the `data` directory and the relevatn R packages are installed and loaded. For the data, please review the DataDownload notebook and the R packages are take care of with sourcing `install.R`."
   ]
  },
  {
   "cell_type": "code",
   "execution_count": null,
   "id": "d6804202-a227-4bee-8b1c-98e7e07feb1a",
   "metadata": {},
   "outputs": [],
   "source": [
    "source(\"install.R\")"
   ]
  },
  {
   "cell_type": "markdown",
   "id": "311abd41-fed1-4c3e-ad8c-f166fc513d77",
   "metadata": {},
   "source": [
    "## Prepare the data"
   ]
  },
  {
   "cell_type": "markdown",
   "id": "8ab2dd57",
   "metadata": {},
   "source": [
    "At first we load the data for our short experiment:"
   ]
  },
  {
   "cell_type": "code",
   "execution_count": null,
   "id": "6a54d17e",
   "metadata": {
    "vscode": {
     "languageId": "r"
    }
   },
   "outputs": [],
   "source": [
    "# Read data for UK and Austria\n",
    "uk_ten <- readRDS(\"data/ESS10.Rdata\") %>%\n",
    "  dplyr::filter(cntry == \"GB\") \n",
    "at_ten <- readRDS(\"data/ESS10SC.Rdata\") %>%\n",
    "  dplyr::filter(cntry == \"AT\")"
   ]
  },
  {
   "cell_type": "markdown",
   "id": "ca3de30a",
   "metadata": {},
   "source": [
    "In our second step we select the variables of interest:\n",
    "- ID numbers of the cases,\n",
    "- The information on where (`cntry`) the data was collected\n",
    "- Five variables that include different assessements. \n",
    "\n",
    "You can look up information on the data via the ESS homepage:\n",
    "\n",
    "- [ESS10 Source Questionnaire](https://stessrelpubprodwe.blob.core.windows.net/data/round10/fieldwork/source/ESS10_source_questionnaires.pdf)\n",
    "- [ESS10 Codebook](https://stessrelpubprodwe.blob.core.windows.net/data/round10/survey/ESS10_appendix_a7_e03_1.pdf)\n",
    "- [ESS10 Source Questionnaire (Self completion, Paper)](https://stessrelpubprodwe.blob.core.windows.net/data/round10/fieldwork/source/ESS10_source_questionnaire_self_completion_paper.pdf)\n",
    "- [ESS10 Codebook (Self completion)](https://stessrelpubprodwe.blob.core.windows.net/data/round10/survey/ESS10SC_appendix_a7_e03_0.pdf)"
   ]
  },
  {
   "cell_type": "code",
   "execution_count": null,
   "id": "4af664dc-deff-4660-9315-f6ec0e835eee",
   "metadata": {
    "vscode": {
     "languageId": "r"
    }
   },
   "outputs": [],
   "source": [
    "# Define variables for experiments\n",
    "Exp_Vars <- c(\"gvhanc19\", \"gvjobc19\", \"gveldc19\", \"gvfamc19\", \"hscopc19\")\n",
    "# Define variables for subsetting\n",
    "Subset_Vars <- c(\"idno\", \"cntry\", Exp_Vars)\n",
    "\n",
    "# Combine both datasets and select variables of interest\n",
    "dataWS <- rbind(uk_ten[, Subset_Vars], \n",
    "                at_ten[, Subset_Vars])\n",
    "\n",
    "# Print the merged dataset\n",
    "head(dataWS, n=20)"
   ]
  },
  {
   "cell_type": "code",
   "execution_count": null,
   "id": "a0992c28-ffb4-49ac-b25a-6ffca5ed1e7c",
   "metadata": {},
   "outputs": [],
   "source": [
    "# Create a table of counts for countries \"AT\" and \"UK\" to verify everything worked correctly x\n",
    "table(dataWS$cntry)"
   ]
  },
  {
   "cell_type": "code",
   "execution_count": null,
   "id": "2f5ae225-3f99-4a92-8c8e-990687515ad8",
   "metadata": {},
   "outputs": [],
   "source": [
    "table(dataWS$gvhanc19,\n",
    "      dataWS$cntry,\n",
    "      useNA=\"always\")"
   ]
  },
  {
   "cell_type": "markdown",
   "id": "41347a89-cd51-4480-9bbd-1c05700321ee",
   "metadata": {},
   "source": [
    "## Response styles"
   ]
  },
  {
   "cell_type": "markdown",
   "id": "ffb8236f",
   "metadata": {},
   "source": [
    "Now we try to get info on response styles.\n",
    "This is a first experiment. It is simply creating information on the amount of times someone agreed to a statement or used only the extreme categories at the far ends of a scale or only selected the same answers on all the items. "
   ]
  },
  {
   "cell_type": "markdown",
   "id": "a7fef8ec-f665-4b60-82df-07987a88fcb3",
   "metadata": {
    "jp-MarkdownHeadingCollapsed": true
   },
   "source": [
    "### Experiment 1: Count extremes"
   ]
  },
  {
   "cell_type": "code",
   "execution_count": null,
   "id": "6afdb589-3e80-4400-8b98-852a55bfd894",
   "metadata": {},
   "outputs": [],
   "source": [
    "# count \"extremes\" #\n",
    "lapply(Exp_Vars, \n",
    "       function(VarName){\n",
    "         sum(dataWS[VarName]  == 0 | # Extremely dissatisfied, disagree\n",
    "             dataWS[VarName]  == 10, # Extremely satisfied, agree\n",
    "             na.rm=TRUE)\n",
    "       }) %>%\n",
    "  setNames(Exp_Vars) "
   ]
  },
  {
   "cell_type": "markdown",
   "id": "fbfbf0e7-a66b-412e-8d2f-be64fb1818dd",
   "metadata": {
    "jp-MarkdownHeadingCollapsed": true
   },
   "source": [
    "### Experiment 2: Count yes"
   ]
  },
  {
   "cell_type": "code",
   "execution_count": null,
   "id": "41d6b61e-5ed9-4336-a721-d43531089be2",
   "metadata": {},
   "outputs": [],
   "source": [
    "# Count \"yes\"\n",
    "lapply(Exp_Vars, \n",
    "       function(VarName){\n",
    "         sum(dataWS[VarName] == 10,\n",
    "             na.rm=TRUE)\n",
    "       }) %>%\n",
    "  setNames(Var_Selection[-c(1,2)])"
   ]
  },
  {
   "cell_type": "markdown",
   "id": "1087e635-7a20-4159-a609-65426a0ac299",
   "metadata": {
    "jp-MarkdownHeadingCollapsed": true
   },
   "source": [
    "### Experiment 3: Count extremes by case"
   ]
  },
  {
   "cell_type": "code",
   "execution_count": null,
   "id": "650aa85a-881b-41c5-b5c0-1e377bd7fc3a",
   "metadata": {},
   "outputs": [],
   "source": [
    "# Function to count extremes by case\n",
    "calculateExtremeValues <- function(data, Exp_Vars) {\n",
    "  extreme_count <- rowSums(data[Exp_Vars] == 0 | data[Exp_Vars] == 10)\n",
    "  data$ExtremeValues <- extreme_count\n",
    "  return(data)\n",
    "}\n",
    "\n",
    "# Execute funtion\n",
    "dataWS <- calculateExtremeValues(dataWS, Exp_Vars)\n",
    "\n",
    "# Show first 20 cases of data\n",
    "head(dataWS, n=20)"
   ]
  },
  {
   "cell_type": "markdown",
   "id": "512351c1-e499-4b65-9759-af2ef5e54984",
   "metadata": {
    "jp-MarkdownHeadingCollapsed": true
   },
   "source": [
    "### Experiment 4: Count yes by case"
   ]
  },
  {
   "cell_type": "code",
   "execution_count": null,
   "id": "37d0b28d-e380-4483-acc6-49a2d51fc569",
   "metadata": {},
   "outputs": [],
   "source": [
    "# Function to count yes by case\n",
    "calculateYesValues <- function(data, Exp_Vars) {\n",
    "  yes_count <- rowSums(data[Exp_Vars] == 10)\n",
    "  data$YesValues <- yes_count\n",
    "  return(data)\n",
    "}\n",
    "\n",
    "# Execute funtion\n",
    "dataWS <- calculateYesValues(dataWS, Exp_Vars)\n",
    "\n",
    "# Show first 20 cases of data\n",
    "head(dataWS, n=20)"
   ]
  },
  {
   "cell_type": "markdown",
   "id": "0c005b87-61c5-4b22-8c9e-2a9e5ad45673",
   "metadata": {
    "jp-MarkdownHeadingCollapsed": true
   },
   "source": [
    "### Categorize answering tendency"
   ]
  },
  {
   "cell_type": "code",
   "execution_count": null,
   "id": "332a5a0a-f0c5-456a-81c8-a3325bbe42f9",
   "metadata": {},
   "outputs": [],
   "source": [
    "# Categorize extremes \n",
    "dataWS$ExtremeCat[dataWS$ExtremeValues<3] <- 0\n",
    "dataWS$ExtremeCat[dataWS$ExtremeValues==3] <- 1\n",
    "dataWS$ExtremeCat[dataWS$ExtremeValues==4] <- 2\n",
    "dataWS$ExtremeCat[dataWS$ExtremeValues==5] <- 3\n",
    "dataWS$ExtremeCat <-  factor(dataWS$ExtremeCat, \n",
    "                             levels = 0:3,\n",
    "                             labels = c(\"no tendency\", \"some tendency\", \n",
    "                                        \"tendency\", \"complete tendency\"),\n",
    "                             ordered = TRUE)\n",
    "\n",
    "# Categorize yes\n",
    "dataWS$YesCat[dataWS$YesValues<3] <- 0\n",
    "dataWS$YesCat[dataWS$YesValues==3] <- 1\n",
    "dataWS$YesCat[dataWS$YesValues==4] <- 2\n",
    "dataWS$YesCat[dataWS$YesValues==5] <- 3\n",
    "dataWS$YesCat <-  factor(dataWS$YesCat, \n",
    "                             levels = 0:3,\n",
    "                             labels = c(\"no tendency\", \"some tendency\", \n",
    "                                        \"tendency\", \"complete tendency\"),\n",
    "                             ordered = TRUE)"
   ]
  },
  {
   "cell_type": "markdown",
   "id": "659f9598-3801-47ce-a785-bc51a9a35e9a",
   "metadata": {
    "jp-MarkdownHeadingCollapsed": true
   },
   "source": [
    "### Experiment 5: Identify straightlining\n",
    "\n",
    "Here all cases identified, which answer the same value on all five variables. Here we identify this cases by checking if the minimum and maximum are identical."
   ]
  },
  {
   "cell_type": "code",
   "execution_count": null,
   "id": "9ad08882-e81a-4e9d-8238-d439b7f8e510",
   "metadata": {},
   "outputs": [],
   "source": [
    "## function to compute sum / mean scores with .X function ##\n",
    "dataWS$Straight <- apply(dataWS[Exp_Vars],1,\n",
    "                         function(x) min(x) == max(x))"
   ]
  },
  {
   "cell_type": "markdown",
   "id": "559868ed-91fd-4d96-9c7b-26ba952e3c80",
   "metadata": {
    "jp-MarkdownHeadingCollapsed": true
   },
   "source": [
    "### Summary of response styles"
   ]
  },
  {
   "cell_type": "markdown",
   "id": "91056815-6c79-4cee-868f-9f35b5c45221",
   "metadata": {},
   "source": [
    "First, we take a look at the newly created variables."
   ]
  },
  {
   "cell_type": "code",
   "execution_count": null,
   "id": "d8c880b8-e282-4811-90be-df12ba953f3b",
   "metadata": {},
   "outputs": [],
   "source": [
    "dataWS %>%\n",
    "  dplyr::select(idno, ExtremeCat, YesCat, Straight) %>%\n",
    "  datatable()"
   ]
  },
  {
   "cell_type": "markdown",
   "id": "a08525ab-82b7-46f2-a444-982648ed4e99",
   "metadata": {},
   "source": [
    "#### Extreme categories"
   ]
  },
  {
   "cell_type": "markdown",
   "id": "9c6cde56-0bff-481f-bd1d-40304ce33cd6",
   "metadata": {},
   "source": [
    "Now, we check the distributions of the extreme categories by country."
   ]
  },
  {
   "cell_type": "code",
   "execution_count": null,
   "id": "3336989c-36f6-4ed7-b1e5-adeeefaf966c",
   "metadata": {},
   "outputs": [],
   "source": [
    "table(dataWS$ExtremeCat,\n",
    "                    dataWS$cntry) %>%\n",
    "  prop.table(2) %>%\n",
    "  round(3)"
   ]
  },
  {
   "cell_type": "markdown",
   "id": "68c6e35e-ff84-41c9-89a8-e81cc1799fb6",
   "metadata": {},
   "source": [
    "And testing for differences across countries:"
   ]
  },
  {
   "cell_type": "code",
   "execution_count": null,
   "id": "e5b9739f-46e6-4bb5-855b-dc2d1bad2cd7",
   "metadata": {},
   "outputs": [],
   "source": [
    "wilcox.test(as.numeric(ExtremeCat)~cntry, dataWS)"
   ]
  },
  {
   "cell_type": "markdown",
   "id": "3ee62bf3-beb9-44f0-a786-56f18975a7c4",
   "metadata": {},
   "source": [
    "#### Yes categories"
   ]
  },
  {
   "cell_type": "code",
   "execution_count": null,
   "id": "2fd56ea8-d237-4788-8336-ea56227f8dda",
   "metadata": {
    "vscode": {
     "languageId": "r"
    }
   },
   "outputs": [],
   "source": [
    "table(dataWS$YesCat,\n",
    "      dataWS$cntry) %>%\n",
    "  prop.table(2) %>%\n",
    "  round(3)"
   ]
  },
  {
   "cell_type": "markdown",
   "id": "017c6273-7fe4-4d53-8091-24989bc44ef1",
   "metadata": {},
   "source": [
    "Test for differences across countries:"
   ]
  },
  {
   "cell_type": "code",
   "execution_count": null,
   "id": "7822b4c3-3e11-418c-ab82-b3dc7b46dcba",
   "metadata": {},
   "outputs": [],
   "source": [
    "wilcox.test(as.numeric(YesCat)~cntry, dataWS)"
   ]
  },
  {
   "cell_type": "markdown",
   "id": "82f0ccda-f4f0-45bc-9105-e6653d23eae1",
   "metadata": {},
   "source": [
    "#### Straigthlining"
   ]
  },
  {
   "cell_type": "code",
   "execution_count": null,
   "id": "c5bea77e-1877-41b9-9ede-f2dacec7b61e",
   "metadata": {},
   "outputs": [],
   "source": [
    "table(dataWS$Straight,\n",
    "      dataWS$cntry) %>%\n",
    "  prop.table(2) %>%\n",
    "  round(3)"
   ]
  },
  {
   "cell_type": "markdown",
   "id": "a6811fc7-ffd7-480a-a5b7-50355f922e3a",
   "metadata": {},
   "source": [
    "Test for differences across countries"
   ]
  },
  {
   "cell_type": "code",
   "execution_count": null,
   "id": "901a9ed0-3832-4e0c-bdea-5027d9a379df",
   "metadata": {},
   "outputs": [],
   "source": [
    "wilcox.test(as.numeric(Straight)~cntry, dataWS)"
   ]
  }
 ],
 "metadata": {
  "kernelspec": {
   "display_name": "R",
   "language": "R",
   "name": "ir"
  },
  "language_info": {
   "codemirror_mode": "r",
   "file_extension": ".r",
   "mimetype": "text/x-r-source",
   "name": "R",
   "pygments_lexer": "r",
   "version": "4.3.1"
  }
 },
 "nbformat": 4,
 "nbformat_minor": 5
}
